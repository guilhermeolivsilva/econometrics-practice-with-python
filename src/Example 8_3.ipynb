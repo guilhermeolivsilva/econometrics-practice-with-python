{
 "cells": [
  {
   "cell_type": "markdown",
   "metadata": {},
   "source": [
    "## This notebook implements Example 8.3 from the Basic Econometrics textbook (Gujarati, 5th ed.)."
   ]
  },
  {
   "cell_type": "code",
   "execution_count": 1,
   "metadata": {},
   "outputs": [],
   "source": [
    "import os\n",
    "import pandas as pd\n",
    "import numpy as np\n",
    "import statsmodels.api as sm\n",
    "import matplotlib.pyplot as plt\n",
    "from sklearn.linear_model import LinearRegression"
   ]
  },
  {
   "cell_type": "code",
   "execution_count": 8,
   "metadata": {},
   "outputs": [
    {
     "name": "stdout",
     "output_type": "stream",
     "text": [
      "    YEAR     GDP  Employment  CAPITAL\n",
      "0   1955  114043        8310   182113\n",
      "1   1956  120410        8529   193749\n",
      "2   1957  129187        8738   205192\n",
      "3   1958  134705        8952   215130\n",
      "4   1959  139960        9171   225021\n",
      "5   1960  150511        9569   237026\n",
      "6   1961  157897        9527   248897\n",
      "7   1962  165286        9662   260661\n",
      "8   1963  178491       10334   275466\n",
      "9   1964  199457       10981   295378\n",
      "10  1965  212323       11746   315715\n",
      "11  1966  226977       11521   337642\n",
      "12  1967  241194       11540   363599\n",
      "13  1968  260881       12066   391847\n",
      "14  1969  277498       12297   422382\n",
      "15  1970  296530       12955   455049\n",
      "16  1971  306712       13338   484677\n",
      "17  1972  329030       13738   520553\n",
      "18  1973  354057       15924   561531\n",
      "19  1974  374977       14154   609825\n"
     ]
    }
   ],
   "source": [
    "os.chdir(os.path.abspath('') + '/econometrics-practice-with-python/')\n",
    "dataset = pd.read_excel('datasets/Table 8_8.xls')\n",
    "print(dataset)"
   ]
  },
  {
   "cell_type": "markdown",
   "metadata": {},
   "source": [
    "### Fitting the model with Scikit Learning"
   ]
  },
  {
   "cell_type": "code",
   "execution_count": 10,
   "metadata": {},
   "outputs": [
    {
     "name": "stdout",
     "output_type": "stream",
     "text": [
      "Scikit Learning R²: 0.995080252813614\n",
      "Scikit Learning intercept: -1.6524193926853048\n",
      "Scikit Learning slope (log(Employment), log(CAPITAL)): [0.33973232 0.84599726]\n"
     ]
    }
   ],
   "source": [
    "skModel = LinearRegression().fit(np.log(dataset[['Employment', 'CAPITAL']]), np.log(dataset['GDP']))\n",
    "\n",
    "print(\"Scikit Learning R²: \" + str(skModel.score(np.log(dataset[['Employment', 'CAPITAL']]), np.log(dataset['GDP']))))\n",
    "print(\"Scikit Learning intercept: \" + str(skModel.intercept_))\n",
    "print(\"Scikit Learning slope (log(Employment), log(CAPITAL)): \" + str(skModel.coef_))"
   ]
  },
  {
   "cell_type": "code",
   "execution_count": 13,
   "metadata": {},
   "outputs": [
    {
     "data": {
      "image/png": "[encoded data removed]",
      "text/plain": [
       "<Figure size 432x288 with 1 Axes>"
      ]
     },
     "metadata": {
      "needs_background": "light"
     },
     "output_type": "display_data"
    },
    {
     "data": {
      "image/png": "[encoded data removed]",
      "text/plain": [
       "<Figure size 432x288 with 1 Axes>"
      ]
     },
     "metadata": {
      "needs_background": "light"
     },
     "output_type": "display_data"
    }
   ],
   "source": [
    "plt.scatter(np.log(dataset['Employment']), np.log(dataset['GDP']))\n",
    "plt.plot(np.log(dataset['Employment']), skModel.predict(np.log(dataset[['Employment', 'CAPITAL']])), color='red')\n",
    "plt.xlabel('Log(Employment)')\n",
    "plt.ylabel('Log(GDP)')\n",
    "plt.show()\n",
    "\n",
    "plt.scatter(np.log(dataset['CAPITAL']), np.log(dataset['GDP']))\n",
    "plt.plot(np.log(dataset['CAPITAL']), skModel.predict(np.log(dataset[['Employment', 'CAPITAL']])), color='red')\n",
    "plt.xlabel('Log(Capital)')\n",
    "plt.ylabel('Log(GDP)')\n",
    "plt.show()"
   ]
  },
  {
   "cell_type": "markdown",
   "metadata": {},
   "source": [
    "### Fitting the model with statsmodel"
   ]
  },
  {
   "cell_type": "code",
   "execution_count": 28,
   "metadata": {},
   "outputs": [
    {
     "data": {
      "text/html": [
       "<table class=\"simpletable\">\n",
       "<caption>OLS Regression Results</caption>\n",
       "<tr>\n",
       "  <th>Dep. Variable:</th>           <td>GDP</td>       <th>  R-squared:         </th> <td>   0.995</td>\n",
       "</tr>\n",
       "<tr>\n",
       "  <th>Model:</th>                   <td>OLS</td>       <th>  Adj. R-squared:    </th> <td>   0.995</td>\n",
       "</tr>\n",
       "<tr>\n",
       "  <th>Method:</th>             <td>Least Squares</td>  <th>  F-statistic:       </th> <td>   1719.</td>\n",
       "</tr>\n",
       "<tr>\n",
       "  <th>Date:</th>             <td>Wed, 13 May 2020</td> <th>  Prob (F-statistic):</th> <td>2.41e-20</td>\n",
       "</tr>\n",
       "<tr>\n",
       "  <th>Time:</th>                 <td>20:35:08</td>     <th>  Log-Likelihood:    </th> <td>  44.552</td>\n",
       "</tr>\n",
       "<tr>\n",
       "  <th>No. Observations:</th>      <td>    20</td>      <th>  AIC:               </th> <td>  -83.10</td>\n",
       "</tr>\n",
       "<tr>\n",
       "  <th>Df Residuals:</th>          <td>    17</td>      <th>  BIC:               </th> <td>  -80.12</td>\n",
       "</tr>\n",
       "<tr>\n",
       "  <th>Df Model:</th>              <td>     2</td>      <th>                     </th>     <td> </td>   \n",
       "</tr>\n",
       "<tr>\n",
       "  <th>Covariance Type:</th>      <td>nonrobust</td>    <th>                     </th>     <td> </td>   \n",
       "</tr>\n",
       "</table>\n",
       "<table class=\"simpletable\">\n",
       "<tr>\n",
       "       <td></td>         <th>coef</th>     <th>std err</th>      <th>t</th>      <th>P>|t|</th>  <th>[0.025</th>    <th>0.975]</th>  \n",
       "</tr>\n",
       "<tr>\n",
       "  <th>const</th>      <td>   -1.6524</td> <td>    0.606</td> <td>   -2.726</td> <td> 0.014</td> <td>   -2.931</td> <td>   -0.373</td>\n",
       "</tr>\n",
       "<tr>\n",
       "  <th>Employment</th> <td>    0.3397</td> <td>    0.186</td> <td>    1.830</td> <td> 0.085</td> <td>   -0.052</td> <td>    0.732</td>\n",
       "</tr>\n",
       "<tr>\n",
       "  <th>CAPITAL</th>    <td>    0.8460</td> <td>    0.093</td> <td>    9.062</td> <td> 0.000</td> <td>    0.649</td> <td>    1.043</td>\n",
       "</tr>\n",
       "</table>\n",
       "<table class=\"simpletable\">\n",
       "<tr>\n",
       "  <th>Omnibus:</th>       <td> 0.254</td> <th>  Durbin-Watson:     </th> <td>   0.426</td>\n",
       "</tr>\n",
       "<tr>\n",
       "  <th>Prob(Omnibus):</th> <td> 0.881</td> <th>  Jarque-Bera (JB):  </th> <td>   0.438</td>\n",
       "</tr>\n",
       "<tr>\n",
       "  <th>Skew:</th>          <td>-0.037</td> <th>  Prob(JB):          </th> <td>   0.803</td>\n",
       "</tr>\n",
       "<tr>\n",
       "  <th>Kurtosis:</th>      <td> 2.279</td> <th>  Cond. No.          </th> <td>1.58e+03</td>\n",
       "</tr>\n",
       "</table><br/><br/>Warnings:<br/>[1] Standard Errors assume that the covariance matrix of the errors is correctly specified.<br/>[2] The condition number is large, 1.58e+03. This might indicate that there are<br/>strong multicollinearity or other numerical problems."
      ],
      "text/plain": [
       "<class 'statsmodels.iolib.summary.Summary'>\n",
       "\"\"\"\n",
       "                            OLS Regression Results                            \n",
       "==============================================================================\n",
       "Dep. Variable:                    GDP   R-squared:                       0.995\n",
       "Model:                            OLS   Adj. R-squared:                  0.995\n",
       "Method:                 Least Squares   F-statistic:                     1719.\n",
       "Date:                Wed, 13 May 2020   Prob (F-statistic):           2.41e-20\n",
       "Time:                        20:35:08   Log-Likelihood:                 44.552\n",
       "No. Observations:                  20   AIC:                            -83.10\n",
       "Df Residuals:                      17   BIC:                            -80.12\n",
       "Df Model:                           2                                         \n",
       "Covariance Type:            nonrobust                                         \n",
       "==============================================================================\n",
       "                 coef    std err          t      P>|t|      [0.025      0.975]\n",
       "------------------------------------------------------------------------------\n",
       "const         -1.6524      0.606     -2.726      0.014      -2.931      -0.373\n",
       "Employment     0.3397      0.186      1.830      0.085      -0.052       0.732\n",
       "CAPITAL        0.8460      0.093      9.062      0.000       0.649       1.043\n",
       "==============================================================================\n",
       "Omnibus:                        0.254   Durbin-Watson:                   0.426\n",
       "Prob(Omnibus):                  0.881   Jarque-Bera (JB):                0.438\n",
       "Skew:                          -0.037   Prob(JB):                        0.803\n",
       "Kurtosis:                       2.279   Cond. No.                     1.58e+03\n",
       "==============================================================================\n",
       "\n",
       "Warnings:\n",
       "[1] Standard Errors assume that the covariance matrix of the errors is correctly specified.\n",
       "[2] The condition number is large, 1.58e+03. This might indicate that there are\n",
       "strong multicollinearity or other numerical problems.\n",
       "\"\"\""
      ]
     },
     "execution_count": 28,
     "metadata": {},
     "output_type": "execute_result"
    }
   ],
   "source": [
    "smDataset = dataset.assign(const=np.exp(1))\n",
    "smModel = sm.OLS(np.log(smDataset['GDP']), np.log(smDataset[['const', 'Employment', 'CAPITAL']]))\n",
    "smFittedModel = smModel.fit()\n",
    "smFittedModel.summary()"
   ]
  }
 ],
 "metadata": {
  "kernelspec": {
   "display_name": "Python 3",
   "language": "python",
   "name": "python3"
  },
  "language_info": {
   "codemirror_mode": {
    "name": "ipython",
    "version": 3
   },
   "file_extension": ".py",
   "mimetype": "text/x-python",
   "name": "python",
   "nbconvert_exporter": "python",
   "pygments_lexer": "ipython3",
   "version": "3.7.6"
  }
 },
 "nbformat": 4,
 "nbformat_minor": 4
}
